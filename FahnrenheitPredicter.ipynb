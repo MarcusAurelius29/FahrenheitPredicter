{
  "nbformat": 4,
  "nbformat_minor": 0,
  "metadata": {
    "colab": {
      "provenance": [],
      "authorship_tag": "ABX9TyNy/zoWb/AK/YDfq7lCPs/C",
      "include_colab_link": true
    },
    "kernelspec": {
      "name": "python3",
      "display_name": "Python 3"
    },
    "language_info": {
      "name": "python"
    }
  },
  "cells": [
    {
      "cell_type": "markdown",
      "metadata": {
        "id": "view-in-github",
        "colab_type": "text"
      },
      "source": [
        "<a href=\"https://colab.research.google.com/github/MarcusAurelius29/FahrenheitPredicter/blob/main/FahnrenheitPredicter.ipynb\" target=\"_parent\"><img src=\"https://colab.research.google.com/assets/colab-badge.svg\" alt=\"Open In Colab\"/></a>"
      ]
    },
    {
      "cell_type": "code",
      "execution_count": null,
      "metadata": {
        "id": "C_BYi4yQhYif"
      },
      "outputs": [],
      "source": [
        "#import tensorflow and numpy\n",
        "import tensorflow as tf\n",
        "import numpy as np\n",
        "import logging\n",
        "tf.get_logger().setLevel(logging.ERROR)"
      ]
    },
    {
      "cell_type": "code",
      "source": [
        "celsius = np.array([-40 , -10 , 0 , 8 , 15 , 22 , 38],dtype=float)\n",
        "fahrenheit = np.array([-40 , 14,32,46,59,72,100],dtype=float)\n"
      ],
      "metadata": {
        "id": "ZfskT655hgTS"
      },
      "execution_count": null,
      "outputs": []
    },
    {
      "cell_type": "code",
      "source": [
        "for i, c in enumerate(celsius):\n",
        "  print('{} degrees Celsius = {} degrees fahrenheit'.format(c , fahrenheit[i]))"
      ],
      "metadata": {
        "colab": {
          "base_uri": "https://localhost:8080/"
        },
        "id": "4hOvqUROiITx",
        "outputId": "00b4794c-ecbf-4ebe-e66a-45d70503fe94"
      },
      "execution_count": null,
      "outputs": [
        {
          "output_type": "stream",
          "name": "stdout",
          "text": [
            "-40.0 degrees Celsius = -40.0 degrees fahrenheit\n",
            "-10.0 degrees Celsius = 14.0 degrees fahrenheit\n",
            "0.0 degrees Celsius = 32.0 degrees fahrenheit\n",
            "8.0 degrees Celsius = 46.0 degrees fahrenheit\n",
            "15.0 degrees Celsius = 59.0 degrees fahrenheit\n",
            "22.0 degrees Celsius = 72.0 degrees fahrenheit\n",
            "38.0 degrees Celsius = 100.0 degrees fahrenheit\n"
          ]
        }
      ]
    },
    {
      "cell_type": "code",
      "source": [
        "l0 = tf.keras.layers.Dense(units = 1 , input_shape = [1])\n",
        "\n",
        "#we will call the layer 10\n",
        "#units = 1 is no of neurons in our neural network\n",
        "#input shape : AS input is only celsius , we create 1D array input"
      ],
      "metadata": {
        "id": "SMasm_vqilM-"
      },
      "execution_count": null,
      "outputs": []
    },
    {
      "cell_type": "code",
      "source": [
        "model = tf.keras.Sequential([l0])\n",
        "#This is the constructor function for creating a Sequential model in TensorFlow's Keras API. The Sequential model is a linear stack of layers, where the output of each layer is passed as the input to the next layer.\n",
        "\n",
        "#[l0]: The argument passed to Sequential is a list containing a single layer, denoted as l0. In this case, l0 represents the first (and only) layer of the model.\n",
        "\n",
        "#So, the code you shared creates a Sequential model with a single layer defined by the variable l0. The specific details of l0 are not provided in your snippet, so it's necessary to look for its definition elsewhere in the code or context to understand what type of layer it is and its configuration."
      ],
      "metadata": {
        "id": "8FDwUGw4jHtu"
      },
      "execution_count": null,
      "outputs": []
    },
    {
      "cell_type": "code",
      "source": [
        "model.compile(loss = 'mean_squared_error' , optimizer = tf.keras.optimizers.Adam(0.1))\n",
        "#0.1 is learning rate"
      ],
      "metadata": {
        "id": "qnDgt1KlvOdI"
      },
      "execution_count": null,
      "outputs": []
    },
    {
      "cell_type": "code",
      "source": [
        "#now train our model\n",
        "history = model.fit(celsius , fahrenheit , epochs=500 , verbose =False)\n",
        "print(\"Finished training our model\")"
      ],
      "metadata": {
        "colab": {
          "base_uri": "https://localhost:8080/"
        },
        "id": "HbvWM9itvkt2",
        "outputId": "881b2641-01a7-4e99-c7a4-bcbf2e6d81c1"
      },
      "execution_count": null,
      "outputs": [
        {
          "output_type": "stream",
          "name": "stdout",
          "text": [
            "Finished training our model\n"
          ]
        }
      ]
    },
    {
      "cell_type": "code",
      "source": [
        "import matplotlib.pyplot as plt"
      ],
      "metadata": {
        "id": "nIfpgxhMvzu5"
      },
      "execution_count": null,
      "outputs": []
    },
    {
      "cell_type": "code",
      "source": [
        "plt.xlabel('Epoch Number')\n",
        "plt.ylabel(\"Lostt Magnitutude\")\n",
        "plt.plot(history.history['loss'])"
      ],
      "metadata": {
        "colab": {
          "base_uri": "https://localhost:8080/",
          "height": 466
        },
        "id": "IEp40Nnbv5js",
        "outputId": "36719c19-e51b-4b79-a8b9-8fc2596760d2"
      },
      "execution_count": null,
      "outputs": [
        {
          "output_type": "execute_result",
          "data": {
            "text/plain": [
              "[<matplotlib.lines.Line2D at 0x7f5a18a23940>]"
            ]
          },
          "metadata": {},
          "execution_count": 14
        },
        {
          "output_type": "display_data",
          "data": {
            "text/plain": [
              "<Figure size 640x480 with 1 Axes>"
            ],
            "image/png": "[encoded data removed]"
          },
          "metadata": {}
        }
      ]
    },
    {
      "cell_type": "code",
      "source": [
        "print(model.predict([100.0]))"
      ],
      "metadata": {
        "colab": {
          "base_uri": "https://localhost:8080/"
        },
        "id": "rQL5eCi3wGAh",
        "outputId": "36298ba5-be3b-40fe-9eb2-bf7ffbfcc6cf"
      },
      "execution_count": null,
      "outputs": [
        {
          "output_type": "stream",
          "name": "stdout",
          "text": [
            "1/1 [==============================] - 0s 99ms/step\n",
            "[[211.31071]]\n"
          ]
        }
      ]
    },
    {
      "cell_type": "code",
      "source": [],
      "metadata": {
        "id": "RctlHoFIwKqP"
      },
      "execution_count": null,
      "outputs": []
    }
  ]
}